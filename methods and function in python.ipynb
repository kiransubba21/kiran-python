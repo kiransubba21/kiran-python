{
 "cells": [
  {
   "cell_type": "code",
   "execution_count": 1,
   "id": "d8bc9263",
   "metadata": {},
   "outputs": [],
   "source": [
    "#methods"
   ]
  },
  {
   "cell_type": "code",
   "execution_count": 3,
   "id": "66939a7b",
   "metadata": {},
   "outputs": [],
   "source": [
    "mylist = [1,2,3]\n",
    "mylist.append(4)"
   ]
  },
  {
   "cell_type": "code",
   "execution_count": 4,
   "id": "54f796da",
   "metadata": {},
   "outputs": [
    {
     "data": {
      "text/plain": [
       "[1, 2, 3, 4]"
      ]
     },
     "execution_count": 4,
     "metadata": {},
     "output_type": "execute_result"
    }
   ],
   "source": [
    "mylist"
   ]
  },
  {
   "cell_type": "code",
   "execution_count": 5,
   "id": "85e44a80",
   "metadata": {},
   "outputs": [
    {
     "data": {
      "text/plain": [
       "4"
      ]
     },
     "execution_count": 5,
     "metadata": {},
     "output_type": "execute_result"
    }
   ],
   "source": [
    "mylist.pop()"
   ]
  },
  {
   "cell_type": "code",
   "execution_count": 6,
   "id": "e0501a9d",
   "metadata": {},
   "outputs": [
    {
     "data": {
      "text/plain": [
       "[1, 2, 3]"
      ]
     },
     "execution_count": 6,
     "metadata": {},
     "output_type": "execute_result"
    }
   ],
   "source": [
    "mylist"
   ]
  },
  {
   "cell_type": "code",
   "execution_count": 8,
   "id": "8c75b31d",
   "metadata": {},
   "outputs": [
    {
     "name": "stdout",
     "output_type": "stream",
     "text": [
      "Help on built-in function insert:\n",
      "\n",
      "insert(index, object, /) method of builtins.list instance\n",
      "    Insert object before index.\n",
      "\n"
     ]
    }
   ],
   "source": [
    "help(mylist.insert)"
   ]
  },
  {
   "cell_type": "code",
   "execution_count": 1,
   "id": "bcdca962",
   "metadata": {},
   "outputs": [],
   "source": [
    "#def keyword"
   ]
  },
  {
   "cell_type": "code",
   "execution_count": 3,
   "id": "4292ae49",
   "metadata": {},
   "outputs": [],
   "source": [
    "def name_of_function():\n",
    "    '''\n",
    "    docsstring explains function\n",
    "    '''\n",
    "    print ('hello bca')"
   ]
  },
  {
   "cell_type": "code",
   "execution_count": 4,
   "id": "b954f416",
   "metadata": {},
   "outputs": [
    {
     "name": "stdout",
     "output_type": "stream",
     "text": [
      "hello bca\n"
     ]
    }
   ],
   "source": [
    "name_of_function()"
   ]
  },
  {
   "cell_type": "code",
   "execution_count": 1,
   "id": "47238d09",
   "metadata": {},
   "outputs": [],
   "source": [
    "def arg_name (name):\n",
    "    print (f'hello my name is {name}')"
   ]
  },
  {
   "cell_type": "code",
   "execution_count": 3,
   "id": "56365ee8",
   "metadata": {},
   "outputs": [
    {
     "name": "stdout",
     "output_type": "stream",
     "text": [
      "hello my name is kiran\n"
     ]
    }
   ],
   "source": [
    "arg_name('kiran')"
   ]
  },
  {
   "cell_type": "code",
   "execution_count": 4,
   "id": "1ef3f20c",
   "metadata": {},
   "outputs": [],
   "source": [
    "def add_function (num1,num2):\n",
    "    return num1,num2"
   ]
  },
  {
   "cell_type": "code",
   "execution_count": 10,
   "id": "9693b7cf",
   "metadata": {},
   "outputs": [
    {
     "data": {
      "text/plain": [
       "(20, 30)"
      ]
     },
     "execution_count": 10,
     "metadata": {},
     "output_type": "execute_result"
    }
   ],
   "source": [
    "add_function (20,30)"
   ]
  },
  {
   "cell_type": "code",
   "execution_count": 7,
   "id": "e40899d1",
   "metadata": {},
   "outputs": [],
   "source": [
    "result = add_function(20,30)"
   ]
  },
  {
   "cell_type": "code",
   "execution_count": 8,
   "id": "ebab3f91",
   "metadata": {},
   "outputs": [
    {
     "data": {
      "text/plain": [
       "(20, 30)"
      ]
     },
     "execution_count": 8,
     "metadata": {},
     "output_type": "execute_result"
    }
   ],
   "source": [
    "result"
   ]
  },
  {
   "cell_type": "code",
   "execution_count": 11,
   "id": "e83bddda",
   "metadata": {},
   "outputs": [],
   "source": [
    "def say_hello():\n",
    "    print ('Hello')"
   ]
  },
  {
   "cell_type": "code",
   "execution_count": 13,
   "id": "e484f463",
   "metadata": {},
   "outputs": [
    {
     "name": "stdout",
     "output_type": "stream",
     "text": [
      "Hello\n"
     ]
    }
   ],
   "source": [
    "say_hello()"
   ]
  },
  {
   "cell_type": "code",
   "execution_count": 14,
   "id": "19c7a4ea",
   "metadata": {},
   "outputs": [],
   "source": [
    "def say_hello():\n",
    "    print ('hello')\n",
    "    print ('how')\n",
    "    print ('areas')\n",
    "    print ('your')"
   ]
  },
  {
   "cell_type": "code",
   "execution_count": 16,
   "id": "3925b5d5",
   "metadata": {},
   "outputs": [
    {
     "name": "stdout",
     "output_type": "stream",
     "text": [
      "hello\n",
      "how\n",
      "areas\n",
      "your\n"
     ]
    }
   ],
   "source": [
    "say_hello()"
   ]
  },
  {
   "cell_type": "code",
   "execution_count": 17,
   "id": "6add787f",
   "metadata": {},
   "outputs": [],
   "source": [
    "def said_hello (name='this is a default value'):\n",
    "    print(f'hello my name is {name}')\n",
    "    "
   ]
  },
  {
   "cell_type": "code",
   "execution_count": 19,
   "id": "db91c243",
   "metadata": {},
   "outputs": [
    {
     "name": "stdout",
     "output_type": "stream",
     "text": [
      "hello my name is this is a default value\n"
     ]
    }
   ],
   "source": [
    "said_hello()"
   ]
  },
  {
   "cell_type": "code",
   "execution_count": 20,
   "id": "d36abe3d",
   "metadata": {},
   "outputs": [],
   "source": [
    "def add_num (num1, num2):\n",
    "    return (num1,num2)"
   ]
  },
  {
   "cell_type": "code",
   "execution_count": 21,
   "id": "30593575",
   "metadata": {},
   "outputs": [
    {
     "data": {
      "text/plain": [
       "tuple"
      ]
     },
     "execution_count": 21,
     "metadata": {},
     "output_type": "execute_result"
    }
   ],
   "source": [
    "type (add_num (10,20))"
   ]
  },
  {
   "cell_type": "code",
   "execution_count": 25,
   "id": "eef15a8d",
   "metadata": {},
   "outputs": [],
   "source": [
    "saving = add_num (10,20)"
   ]
  },
  {
   "cell_type": "code",
   "execution_count": 26,
   "id": "ad3eb659",
   "metadata": {},
   "outputs": [
    {
     "data": {
      "text/plain": [
       "(10, 20)"
      ]
     },
     "execution_count": 26,
     "metadata": {},
     "output_type": "execute_result"
    }
   ],
   "source": [
    "saving"
   ]
  },
  {
   "cell_type": "code",
   "execution_count": 33,
   "id": "ad75069f",
   "metadata": {},
   "outputs": [],
   "source": [
    "def func (a,b):\n",
    "    print(a+b)\n",
    "    return a+b"
   ]
  },
  {
   "cell_type": "code",
   "execution_count": 34,
   "id": "337c8320",
   "metadata": {},
   "outputs": [
    {
     "name": "stdout",
     "output_type": "stream",
     "text": [
      "30\n"
     ]
    }
   ],
   "source": [
    "result = func (10,20)"
   ]
  },
  {
   "cell_type": "code",
   "execution_count": 35,
   "id": "c8d29a9f",
   "metadata": {},
   "outputs": [
    {
     "data": {
      "text/plain": [
       "30"
      ]
     },
     "execution_count": 35,
     "metadata": {},
     "output_type": "execute_result"
    }
   ],
   "source": [
    "result"
   ]
  },
  {
   "cell_type": "code",
   "execution_count": 36,
   "id": "d6fd9c19",
   "metadata": {},
   "outputs": [],
   "source": [
    "def number_add(num1,num2):\n",
    "    return num1+num2"
   ]
  },
  {
   "cell_type": "code",
   "execution_count": 38,
   "id": "9121a708",
   "metadata": {},
   "outputs": [
    {
     "data": {
      "text/plain": [
       "'4060'"
      ]
     },
     "execution_count": 38,
     "metadata": {},
     "output_type": "execute_result"
    }
   ],
   "source": [
    "number_add ('40','60')"
   ]
  },
  {
   "cell_type": "code",
   "execution_count": null,
   "id": "c69defae",
   "metadata": {},
   "outputs": [],
   "source": []
  }
 ],
 "metadata": {
  "kernelspec": {
   "display_name": "Python 3 (ipykernel)",
   "language": "python",
   "name": "python3"
  },
  "language_info": {
   "codemirror_mode": {
    "name": "ipython",
    "version": 3
   },
   "file_extension": ".py",
   "mimetype": "text/x-python",
   "name": "python",
   "nbconvert_exporter": "python",
   "pygments_lexer": "ipython3",
   "version": "3.10.9"
  }
 },
 "nbformat": 4,
 "nbformat_minor": 5
}
