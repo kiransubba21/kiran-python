{
 "cells": [
  {
   "cell_type": "code",
   "execution_count": 1,
   "id": "616dc806",
   "metadata": {},
   "outputs": [],
   "source": [
    "# logic with function in python"
   ]
  },
  {
   "cell_type": "code",
   "execution_count": 2,
   "id": "e9e957d2",
   "metadata": {},
   "outputs": [
    {
     "data": {
      "text/plain": [
       "0"
      ]
     },
     "execution_count": 2,
     "metadata": {},
     "output_type": "execute_result"
    }
   ],
   "source": [
    "2%2"
   ]
  },
  {
   "cell_type": "code",
   "execution_count": 4,
   "id": "8db2945c",
   "metadata": {},
   "outputs": [
    {
     "data": {
      "text/plain": [
       "0"
      ]
     },
     "execution_count": 4,
     "metadata": {},
     "output_type": "execute_result"
    }
   ],
   "source": [
    "20%1"
   ]
  },
  {
   "cell_type": "code",
   "execution_count": 5,
   "id": "e8e1d311",
   "metadata": {},
   "outputs": [
    {
     "data": {
      "text/plain": [
       "True"
      ]
     },
     "execution_count": 5,
     "metadata": {},
     "output_type": "execute_result"
    }
   ],
   "source": [
    "4%2 == 0"
   ]
  },
  {
   "cell_type": "code",
   "execution_count": 6,
   "id": "0a331fbb",
   "metadata": {},
   "outputs": [
    {
     "data": {
      "text/plain": [
       "False"
      ]
     },
     "execution_count": 6,
     "metadata": {},
     "output_type": "execute_result"
    }
   ],
   "source": [
    "5%2 == 0"
   ]
  },
  {
   "cell_type": "code",
   "execution_count": 7,
   "id": "be1189c8",
   "metadata": {},
   "outputs": [
    {
     "data": {
      "text/plain": [
       "True"
      ]
     },
     "execution_count": 7,
     "metadata": {},
     "output_type": "execute_result"
    }
   ],
   "source": [
    "def even_check(num):\n",
    "    result = num %2==0\n",
    "    return result\n",
    "even_check (20)"
   ]
  },
  {
   "cell_type": "code",
   "execution_count": 13,
   "id": "3d013f3c",
   "metadata": {},
   "outputs": [
    {
     "data": {
      "text/plain": [
       "True"
      ]
     },
     "execution_count": 13,
     "metadata": {},
     "output_type": "execute_result"
    }
   ],
   "source": [
    "def check_even (num_list):\n",
    "    for number in num_list:\n",
    "        if number%2 ==0:\n",
    "            return True\n",
    "        else:\n",
    "            pass\n",
    "    return false\n",
    "check_even ([1,1,4])        "
   ]
  },
  {
   "cell_type": "code",
   "execution_count": 15,
   "id": "a0654843",
   "metadata": {},
   "outputs": [
    {
     "data": {
      "text/plain": [
       "[4, 6, 12, 14]"
      ]
     },
     "execution_count": 15,
     "metadata": {},
     "output_type": "execute_result"
    }
   ],
   "source": [
    "def check_even_list(num_list):\n",
    "    even_numbers = [] #placeholder value\n",
    "    for number in num_list:\n",
    "        if number%2==0:\n",
    "           even_numbers.append (number)\n",
    "        else:\n",
    "            pass\n",
    "    return even_numbers\n",
    "check_even_list([1,4,5,6,9,7,12,13,14])"
   ]
  },
  {
   "cell_type": "code",
   "execution_count": 16,
   "id": "f463a40d",
   "metadata": {},
   "outputs": [],
   "source": [
    "#functions and tuple unpacking in python"
   ]
  },
  {
   "cell_type": "code",
   "execution_count": 21,
   "id": "9371ec8e",
   "metadata": {},
   "outputs": [
    {
     "name": "stdout",
     "output_type": "stream",
     "text": [
      "('APPLE', 100)\n",
      "('GOOGLE', 400)\n",
      "('MICROSHOP', 800)\n"
     ]
    }
   ],
   "source": [
    "stock_prices = [('APPLE',100),('GOOGLE',400),('MICROSHOP',800)]\n",
    "for item in stock_prices:\n",
    "    print(item)"
   ]
  },
  {
   "cell_type": "code",
   "execution_count": 22,
   "id": "ed6528e2",
   "metadata": {},
   "outputs": [
    {
     "name": "stdout",
     "output_type": "stream",
     "text": [
      "110.0\n",
      "440.0\n",
      "880.0\n"
     ]
    }
   ],
   "source": [
    "for ticker,price in stock_prices:\n",
    "    print(price+(0.1*price))"
   ]
  },
  {
   "cell_type": "code",
   "execution_count": 15,
   "id": "86b0a9d5",
   "metadata": {},
   "outputs": [],
   "source": [
    "work_hours = [('Abby',400),('Sammy',800),('Andy',300)]\n",
    "def employee_check (work_hours):\n",
    "    current_max = 0\n",
    "    employee_of_month = ''\n",
    "    for employee,hours in work_hours:\n",
    "        if hours>current_max:\n",
    "            current_max = hours\n",
    "            employee_of_month = employee\n",
    "        else:\n",
    "            pass\n",
    "    return(employee_of_month,current_max)   \n",
    "            \n",
    "            "
   ]
  },
  {
   "cell_type": "code",
   "execution_count": 16,
   "id": "90505ab9",
   "metadata": {},
   "outputs": [],
   "source": [
    "result = employee_check (work_hours)"
   ]
  },
  {
   "cell_type": "code",
   "execution_count": 17,
   "id": "5cd268d2",
   "metadata": {},
   "outputs": [
    {
     "data": {
      "text/plain": [
       "('Sammy', 800)"
      ]
     },
     "execution_count": 17,
     "metadata": {},
     "output_type": "execute_result"
    }
   ],
   "source": [
    "result"
   ]
  },
  {
   "cell_type": "code",
   "execution_count": 19,
   "id": "a11e4fbe",
   "metadata": {},
   "outputs": [],
   "source": [
    "hours = employee_check(work_hours)"
   ]
  },
  {
   "cell_type": "markdown",
   "id": "5405fb7d",
   "metadata": {},
   "source": []
  },
  {
   "cell_type": "code",
   "execution_count": 20,
   "id": "f4a26baf",
   "metadata": {},
   "outputs": [
    {
     "data": {
      "text/plain": [
       "'Sammy'"
      ]
     },
     "execution_count": 20,
     "metadata": {},
     "output_type": "execute_result"
    }
   ],
   "source": [
    "name"
   ]
  },
  {
   "cell_type": "code",
   "execution_count": 21,
   "id": "3eec90b7",
   "metadata": {},
   "outputs": [
    {
     "data": {
      "text/plain": [
       "('Sammy', 800)"
      ]
     },
     "execution_count": 21,
     "metadata": {},
     "output_type": "execute_result"
    }
   ],
   "source": [
    "hours"
   ]
  },
  {
   "cell_type": "code",
   "execution_count": 22,
   "id": "f79b208d",
   "metadata": {},
   "outputs": [],
   "source": [
    "item = employee_check(work_hours)"
   ]
  },
  {
   "cell_type": "code",
   "execution_count": 23,
   "id": "4dd1397b",
   "metadata": {},
   "outputs": [
    {
     "data": {
      "text/plain": [
       "('Sammy', 800)"
      ]
     },
     "execution_count": 23,
     "metadata": {},
     "output_type": "execute_result"
    }
   ],
   "source": [
    "item"
   ]
  },
  {
   "cell_type": "code",
   "execution_count": null,
   "id": "5ab772eb",
   "metadata": {},
   "outputs": [],
   "source": []
  }
 ],
 "metadata": {
  "kernelspec": {
   "display_name": "Python 3 (ipykernel)",
   "language": "python",
   "name": "python3"
  },
  "language_info": {
   "codemirror_mode": {
    "name": "ipython",
    "version": 3
   },
   "file_extension": ".py",
   "mimetype": "text/x-python",
   "name": "python",
   "nbconvert_exporter": "python",
   "pygments_lexer": "ipython3",
   "version": "3.10.9"
  }
 },
 "nbformat": 4,
 "nbformat_minor": 5
}
