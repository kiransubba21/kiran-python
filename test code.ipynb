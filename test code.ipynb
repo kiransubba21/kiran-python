{
 "cells": [
  {
   "cell_type": "code",
   "execution_count": 1,
   "id": "1a43b8e0",
   "metadata": {},
   "outputs": [],
   "source": [
    "x ='hello world'"
   ]
  },
  {
   "cell_type": "code",
   "execution_count": 2,
   "id": "40b98ad7",
   "metadata": {},
   "outputs": [
    {
     "data": {
      "text/plain": [
       "'hello worldit is beautiful outside'"
      ]
     },
     "execution_count": 2,
     "metadata": {},
     "output_type": "execute_result"
    }
   ],
   "source": [
    "print(x + 'it is beautiful outside')"
   ]
  },
  {
   "cell_type": "code",
   "execution_count": 11,
   "id": "067586f2",
   "metadata": {},
   "outputs": [],
   "source": [
    "letter='z'"
   ]
  },
  {
   "cell_type": "code",
   "execution_count": 10,
   "id": "72c3af81",
   "metadata": {},
   "outputs": [
    {
     "data": {
      "text/plain": [
       "'z'"
      ]
     },
     "execution_count": 10,
     "metadata": {},
     "output_type": "execute_result"
    }
   ],
   "source": [
    "letter"
   ]
  },
  {
   "cell_type": "code",
   "execution_count": 5,
   "id": "fe2ef40d",
   "metadata": {},
   "outputs": [
    {
     "data": {
      "text/plain": [
       "'zzzzzzzzzz'"
      ]
     },
     "execution_count": 5,
     "metadata": {},
     "output_type": "execute_result"
    }
   ],
   "source": [
    "letter*10"
   ]
  },
  {
   "cell_type": "code",
   "execution_count": 6,
   "id": "efdc98fd",
   "metadata": {},
   "outputs": [],
   "source": [
    "a = '40'+ '50'"
   ]
  },
  {
   "cell_type": "code",
   "execution_count": 7,
   "id": "02da5111",
   "metadata": {},
   "outputs": [
    {
     "data": {
      "text/plain": [
       "str"
      ]
     },
     "execution_count": 7,
     "metadata": {},
     "output_type": "execute_result"
    }
   ],
   "source": [
    "type(a)"
   ]
  },
  {
   "cell_type": "code",
   "execution_count": 15,
   "id": "cd89f160",
   "metadata": {},
   "outputs": [],
   "source": [
    "  x='helloworld'"
   ]
  },
  {
   "cell_type": "code",
   "execution_count": 17,
   "id": "5e0def20",
   "metadata": {},
   "outputs": [
    {
     "data": {
      "text/plain": [
       "'HELLOWORLD'"
      ]
     },
     "execution_count": 17,
     "metadata": {},
     "output_type": "execute_result"
    }
   ],
   "source": [
    "x.upper()"
   ]
  },
  {
   "cell_type": "code",
   "execution_count": 18,
   "id": "1df5ad7f",
   "metadata": {},
   "outputs": [
    {
     "data": {
      "text/plain": [
       "['hell', 'w', 'rld']"
      ]
     },
     "execution_count": 18,
     "metadata": {},
     "output_type": "execute_result"
    }
   ],
   "source": [
    "x.split('o')"
   ]
  },
  {
   "cell_type": "code",
   "execution_count": 23,
   "id": "1db3cf85",
   "metadata": {},
   "outputs": [
    {
     "name": "stdout",
     "output_type": "stream",
     "text": [
      "hello my name is kiran\n"
     ]
    }
   ],
   "source": [
    "my_name ='kiran'\n",
    "print('hello my name is '+my_name)"
   ]
  },
  {
   "cell_type": "code",
   "execution_count": 24,
   "id": "ba7ce97f",
   "metadata": {},
   "outputs": [],
   "source": [
    "#'string here{}{}{}'.format(something1,something2,something3,)"
   ]
  },
  {
   "cell_type": "code",
   "execution_count": 25,
   "id": "d48810fb",
   "metadata": {},
   "outputs": [
    {
     "name": "stdout",
     "output_type": "stream",
     "text": [
      "i am a student of medhavi skills university\n"
     ]
    }
   ],
   "source": [
    "print('i am a student of {}'.format ('medhavi skills university'))"
   ]
  },
  {
   "cell_type": "code",
   "execution_count": 30,
   "id": "22013e7a",
   "metadata": {},
   "outputs": [
    {
     "name": "stdout",
     "output_type": "stream",
     "text": [
      "the quick brown fox\n"
     ]
    }
   ],
   "source": [
    "print('the {q} {b} {f}'.format(b='brown',f='fox',q='quick'))"
   ]
  },
  {
   "cell_type": "code",
   "execution_count": 1,
   "id": "20869419",
   "metadata": {},
   "outputs": [
    {
     "name": "stdout",
     "output_type": "stream",
     "text": [
      "this is a stringinserted\n"
     ]
    }
   ],
   "source": [
    "print('this is a string{}'.format('inserted'))"
   ]
  },
  {
   "cell_type": "code",
   "execution_count": 2,
   "id": "1c83e3d5",
   "metadata": {},
   "outputs": [],
   "source": [
    "#float formating"
   ]
  },
  {
   "cell_type": "code",
   "execution_count": 6,
   "id": "7c063f0f",
   "metadata": {},
   "outputs": [],
   "source": [
    "result =108/77"
   ]
  },
  {
   "cell_type": "code",
   "execution_count": 7,
   "id": "e89f548a",
   "metadata": {},
   "outputs": [
    {
     "data": {
      "text/plain": [
       "1.4025974025974026"
      ]
     },
     "execution_count": 7,
     "metadata": {},
     "output_type": "execute_result"
    }
   ],
   "source": [
    "result"
   ]
  },
  {
   "cell_type": "code",
   "execution_count": 15,
   "id": "00c7bf90",
   "metadata": {},
   "outputs": [
    {
     "ename": "SyntaxError",
     "evalue": "invalid syntax. Perhaps you forgot a comma? (3855363532.py, line 1)",
     "output_type": "error",
     "traceback": [
      "\u001b[1;36m  Cell \u001b[1;32mIn[15], line 1\u001b[1;36m\u001b[0m\n\u001b[1;33m    print(the result is {r}'.format(result)')\u001b[0m\n\u001b[1;37m          ^\u001b[0m\n\u001b[1;31mSyntaxError\u001b[0m\u001b[1;31m:\u001b[0m invalid syntax. Perhaps you forgot a comma?\n"
     ]
    }
   ],
   "source": [
    "print(the result is {r}'.format(result)')"
   ]
  },
  {
   "cell_type": "code",
   "execution_count": 5,
   "id": "11e4acb1",
   "metadata": {},
   "outputs": [
    {
     "name": "stdout",
     "output_type": "stream",
     "text": [
      "helloi am a python programmer\n"
     ]
    }
   ],
   "source": [
    "s1=\"hello\"\n",
    "s2=\"i am a \"\n",
    "s3=\"python programmer\"\n",
    "s4=s1+s2+s3\n",
    "print(s4)"
   ]
  },
  {
   "cell_type": "code",
   "execution_count": 2,
   "id": "32059ee1",
   "metadata": {},
   "outputs": [
    {
     "data": {
      "text/plain": [
       "'THE QUICK BROWN FOX'"
      ]
     },
     "execution_count": 2,
     "metadata": {},
     "output_type": "execute_result"
    }
   ],
   "source": [
    "string_text='the quick brown fox'\n",
    "string_text.upper()"
   ]
  },
  {
   "cell_type": "code",
   "execution_count": 14,
   "id": "a7a8563d",
   "metadata": {},
   "outputs": [
    {
     "name": "stdout",
     "output_type": "stream",
     "text": [
      "my name is john and my age is 25\n"
     ]
    }
   ],
   "source": [
    "name='john'\n",
    "age='25'\n",
    "print(f'my name is {name} and my age is {age}')"
   ]
  },
  {
   "cell_type": "code",
   "execution_count": 25,
   "id": "c7f5116f",
   "metadata": {},
   "outputs": [
    {
     "name": "stdout",
     "output_type": "stream",
     "text": [
      "i love  programming in python\n"
     ]
    }
   ],
   "source": [
    "my_catch='i love  programming in python'\n",
    "print(my_catch)"
   ]
  },
  {
   "cell_type": "code",
   "execution_count": 26,
   "id": "74cb1fba",
   "metadata": {},
   "outputs": [
    {
     "data": {
      "text/plain": [
       "'  programming'"
      ]
     },
     "execution_count": 26,
     "metadata": {},
     "output_type": "execute_result"
    }
   ],
   "source": [
    "my_catch[6:-10]"
   ]
  },
  {
   "cell_type": "code",
   "execution_count": 27,
   "id": "690eabab",
   "metadata": {},
   "outputs": [
    {
     "data": {
      "text/plain": [
       "'  programming'"
      ]
     },
     "execution_count": 27,
     "metadata": {},
     "output_type": "execute_result"
    }
   ],
   "source": [
    "my_catch[6:-10]"
   ]
  },
  {
   "cell_type": "code",
   "execution_count": null,
   "id": "658efa65",
   "metadata": {},
   "outputs": [],
   "source": [
    "py=3.14\n",
    "b=592\n",
    "c=6535\n",
    "d=(py*b/c)\n",
    "print('the result is{r:1.4f}'.format(r=d)')"
   ]
  }
 ],
 "metadata": {
  "kernelspec": {
   "display_name": "Python 3 (ipykernel)",
   "language": "python",
   "name": "python3"
  },
  "language_info": {
   "codemirror_mode": {
    "name": "ipython",
    "version": 3
   },
   "file_extension": ".py",
   "mimetype": "text/x-python",
   "name": "python",
   "nbconvert_exporter": "python",
   "pygments_lexer": "ipython3",
   "version": "3.10.9"
  }
 },
 "nbformat": 4,
 "nbformat_minor": 5
}
